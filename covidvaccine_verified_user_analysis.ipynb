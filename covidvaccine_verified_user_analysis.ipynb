{
  "nbformat": 4,
  "nbformat_minor": 0,
  "metadata": {
    "colab": {
      "name": "covidvaccine_verified_user_analysis.ipynb",
      "provenance": [],
      "collapsed_sections": []
    },
    "kernelspec": {
      "name": "python3",
      "display_name": "Python 3"
    },
    "language_info": {
      "name": "python"
    }
  },
  "cells": [
    {
      "cell_type": "code",
      "metadata": {
        "colab": {
          "base_uri": "https://localhost:8080/"
        },
        "id": "CM8YLchIIkjq",
        "outputId": "d499b646-b230-42c5-a582-971ee216fbc3"
      },
      "source": [
        "import os\n",
        "import pandas as pd\n",
        "from wordcloud import WordCloud\n",
        "import numpy as np\n",
        "import collections\n",
        "import re\n",
        "import nltk\n",
        "from nltk.tokenize import word_tokenize\n",
        "from string import punctuation  \n",
        "from string import digits\n",
        "from nltk.corpus import stopwords\n",
        "from sklearn.model_selection import train_test_split\n",
        "from sklearn.metrics import accuracy_score\n",
        "from sklearn.naive_bayes import MultinomialNB\n",
        "from sklearn.linear_model import LogisticRegression\n",
        "from sklearn.metrics import precision_score\n",
        "from sklearn.metrics import recall_score\n",
        "# use if required\n",
        "#!pip install contractions\n",
        "import contractions\n",
        "import matplotlib.pyplot as plt"
      ],
      "execution_count": 1,
      "outputs": [
        {
          "output_type": "stream",
          "text": [
            "Collecting contractions\n",
            "  Downloading https://files.pythonhosted.org/packages/0a/04/d5e0bb9f2cef5d15616ebf68087a725c5dbdd71bd422bcfb35d709f98ce7/contractions-0.0.48-py2.py3-none-any.whl\n",
            "Collecting textsearch>=0.0.21\n",
            "  Downloading https://files.pythonhosted.org/packages/d3/fe/021d7d76961b5ceb9f8d022c4138461d83beff36c3938dc424586085e559/textsearch-0.0.21-py2.py3-none-any.whl\n",
            "Collecting pyahocorasick\n",
            "\u001b[?25l  Downloading https://files.pythonhosted.org/packages/7f/c2/eae730037ae1cbbfaa229d27030d1d5e34a1e41114b21447d1202ae9c220/pyahocorasick-1.4.2.tar.gz (321kB)\n",
            "\u001b[K     |████████████████████████████████| 327kB 4.3MB/s \n",
            "\u001b[?25hCollecting anyascii\n",
            "\u001b[?25l  Downloading https://files.pythonhosted.org/packages/a3/14/666cd44bf53f36a961544af592cb5c5c800013f9c51a4745af8d7c17362a/anyascii-0.2.0-py3-none-any.whl (283kB)\n",
            "\u001b[K     |████████████████████████████████| 286kB 6.4MB/s \n",
            "\u001b[?25hBuilding wheels for collected packages: pyahocorasick\n",
            "  Building wheel for pyahocorasick (setup.py) ... \u001b[?25l\u001b[?25hdone\n",
            "  Created wheel for pyahocorasick: filename=pyahocorasick-1.4.2-cp37-cp37m-linux_x86_64.whl size=85397 sha256=1cd2df0878f35b292afe119d5de4db6be1b1c6cfc25dda4f1c498d0c822ddf0d\n",
            "  Stored in directory: /root/.cache/pip/wheels/3a/03/34/77e3ece0bba8b86bfac88a79f923b36d805cad63caeba38842\n",
            "Successfully built pyahocorasick\n",
            "Installing collected packages: pyahocorasick, anyascii, textsearch, contractions\n",
            "Successfully installed anyascii-0.2.0 contractions-0.0.48 pyahocorasick-1.4.2 textsearch-0.0.21\n"
          ],
          "name": "stdout"
        }
      ]
    },
    {
      "cell_type": "code",
      "metadata": {
        "colab": {
          "base_uri": "https://localhost:8080/"
        },
        "id": "fEQod5MfIlv7",
        "outputId": "3d6853b5-ad36-4c1b-f21e-4541fe98dc88"
      },
      "source": [
        "# Use only when using colab to mount the drive\n",
        "from google.colab import drive\n",
        "drive.mount('/content/drive/', force_remount=True)"
      ],
      "execution_count": 2,
      "outputs": [
        {
          "output_type": "stream",
          "text": [
            "Mounted at /content/drive/\n"
          ],
          "name": "stdout"
        }
      ]
    },
    {
      "cell_type": "code",
      "metadata": {
        "colab": {
          "base_uri": "https://localhost:8080/"
        },
        "id": "Z6aQHWkCIlti",
        "outputId": "9a61c2dd-afae-42b7-b9cd-242deff822f6"
      },
      "source": [
        "#Preprocessing\n",
        "#Use these if required.\n",
        "nltk.download('punkt')\n",
        "nltk.download('stopwords')\n",
        "nltk.download('wordnet')\n",
        "\n",
        "# create a lemmatizer object\n",
        "lemmatizer = nltk.stem.WordNetLemmatizer()\n",
        "# create an object to remove punctuation marks\n",
        "puncutation_translator = str.maketrans('', '', punctuation)\n",
        "digit_translator = str.maketrans('', '', digits)\n",
        "# create a stop word list (*** Check if negation words need to be eliminated from the list ***)\n",
        "stopwords_list = set(stopwords.words('english') + list(punctuation) + ['ATUSER','URL'])\n",
        "\n",
        "## function for pre-preocessing individual tweet\n",
        "## 1. Changing it into lowercase\n",
        "## 2. Fixing contractions. For e.g. can't -> can not\n",
        "## 3. Removing URLs\n",
        "## 4. Removing usernames.\n",
        "## 5. Removing Punctutation marks.\n",
        "## 6. Removing digits.\n",
        "## 7. Tokenizing sentences into words.\n",
        "## 8. Lemmatization of each word assuming it's POS tag as verb.\n",
        "## 9. Removing stop words.\n",
        "def preProcessTweet(tweet_elm):\n",
        "  tweet = tweet_elm.lower()\n",
        "  tweet = contractions.fix(tweet)\n",
        "  tweet = re.sub('((www\\.[^\\s]+)|(https?://[^\\s]+))', 'URL', tweet)\n",
        "  tweet = re.sub('@[^\\s]+', 'ATUSER', tweet)\n",
        "  tweet = re.sub(r'#([^\\s]+)', r'\\1', tweet)\n",
        "  tweet = tweet.translate(puncutation_translator)\n",
        "  tweet = tweet.translate(digit_translator)\n",
        "  tweet = word_tokenize(tweet)\n",
        "  return \" \".join([lemmatizer.lemmatize(word, 'v') for word in tweet if word not in stopwords_list])"
      ],
      "execution_count": 3,
      "outputs": [
        {
          "output_type": "stream",
          "text": [
            "[nltk_data] Downloading package punkt to /root/nltk_data...\n",
            "[nltk_data]   Unzipping tokenizers/punkt.zip.\n",
            "[nltk_data] Downloading package stopwords to /root/nltk_data...\n",
            "[nltk_data]   Unzipping corpora/stopwords.zip.\n",
            "[nltk_data] Downloading package wordnet to /root/nltk_data...\n",
            "[nltk_data]   Unzipping corpora/wordnet.zip.\n"
          ],
          "name": "stdout"
        }
      ]
    },
    {
      "cell_type": "code",
      "metadata": {
        "colab": {
          "base_uri": "https://localhost:8080/",
          "height": 501
        },
        "id": "ym-0SzpCIlrQ",
        "outputId": "d0687b05-3604-44cf-e94c-9c036ec47053"
      },
      "source": [
        "# extract vaccine dataset\n",
        "dataFrame_vaccine_trend = pd.read_csv(\"/content/drive/My Drive/study/data_analytics/project/src/covid_data/covidvaccine.csv\", encoding = \"utf8\") \n",
        "dataFrame_vaccine_trend.head()"
      ],
      "execution_count": 4,
      "outputs": [
        {
          "output_type": "stream",
          "text": [
            "/usr/local/lib/python3.7/dist-packages/IPython/core/interactiveshell.py:2718: DtypeWarning: Columns (5,6,7,12) have mixed types.Specify dtype option on import or set low_memory=False.\n",
            "  interactivity=interactivity, compiler=compiler, result=result)\n"
          ],
          "name": "stderr"
        },
        {
          "output_type": "execute_result",
          "data": {
            "text/html": [
              "<div>\n",
              "<style scoped>\n",
              "    .dataframe tbody tr th:only-of-type {\n",
              "        vertical-align: middle;\n",
              "    }\n",
              "\n",
              "    .dataframe tbody tr th {\n",
              "        vertical-align: top;\n",
              "    }\n",
              "\n",
              "    .dataframe thead th {\n",
              "        text-align: right;\n",
              "    }\n",
              "</style>\n",
              "<table border=\"1\" class=\"dataframe\">\n",
              "  <thead>\n",
              "    <tr style=\"text-align: right;\">\n",
              "      <th></th>\n",
              "      <th>user_name</th>\n",
              "      <th>user_location</th>\n",
              "      <th>user_description</th>\n",
              "      <th>user_created</th>\n",
              "      <th>user_followers</th>\n",
              "      <th>user_friends</th>\n",
              "      <th>user_favourites</th>\n",
              "      <th>user_verified</th>\n",
              "      <th>date</th>\n",
              "      <th>text</th>\n",
              "      <th>hashtags</th>\n",
              "      <th>source</th>\n",
              "      <th>is_retweet</th>\n",
              "    </tr>\n",
              "  </thead>\n",
              "  <tbody>\n",
              "    <tr>\n",
              "      <th>0</th>\n",
              "      <td>MyNewsNE</td>\n",
              "      <td>Assam</td>\n",
              "      <td>MyNewsNE a dedicated multi-lingual media house...</td>\n",
              "      <td>24-05-2020 10:18</td>\n",
              "      <td>64.0</td>\n",
              "      <td>11</td>\n",
              "      <td>110</td>\n",
              "      <td>FALSE</td>\n",
              "      <td>18-08-2020 12:55</td>\n",
              "      <td>Australia to Manufacture Covid-19 Vaccine and ...</td>\n",
              "      <td>['CovidVaccine']</td>\n",
              "      <td>Twitter Web App</td>\n",
              "      <td>False</td>\n",
              "    </tr>\n",
              "    <tr>\n",
              "      <th>1</th>\n",
              "      <td>Shubham Gupta</td>\n",
              "      <td>NaN</td>\n",
              "      <td>I will tell about all experiences of my life f...</td>\n",
              "      <td>14-08-2020 16:42</td>\n",
              "      <td>1.0</td>\n",
              "      <td>17</td>\n",
              "      <td>0</td>\n",
              "      <td>FALSE</td>\n",
              "      <td>18-08-2020 12:55</td>\n",
              "      <td>#CoronavirusVaccine #CoronaVaccine #CovidVacci...</td>\n",
              "      <td>['CoronavirusVaccine', 'CoronaVaccine', 'Covid...</td>\n",
              "      <td>Twitter for Android</td>\n",
              "      <td>False</td>\n",
              "    </tr>\n",
              "    <tr>\n",
              "      <th>2</th>\n",
              "      <td>Journal of Infectiology</td>\n",
              "      <td>NaN</td>\n",
              "      <td>Journal of Infectiology (ISSN 2689-9981) is ac...</td>\n",
              "      <td>14-12-2017 07:07</td>\n",
              "      <td>143.0</td>\n",
              "      <td>566</td>\n",
              "      <td>8</td>\n",
              "      <td>FALSE</td>\n",
              "      <td>18-08-2020 12:46</td>\n",
              "      <td>Deaths due to COVID-19 in Affected Countries\\n...</td>\n",
              "      <td>NaN</td>\n",
              "      <td>Twitter Web App</td>\n",
              "      <td>False</td>\n",
              "    </tr>\n",
              "    <tr>\n",
              "      <th>3</th>\n",
              "      <td>Zane</td>\n",
              "      <td>NaN</td>\n",
              "      <td>Fresher than you.</td>\n",
              "      <td>18-09-2019 11:01</td>\n",
              "      <td>29.0</td>\n",
              "      <td>25</td>\n",
              "      <td>620</td>\n",
              "      <td>FALSE</td>\n",
              "      <td>18-08-2020 12:45</td>\n",
              "      <td>@Team_Subhashree @subhashreesotwe @iamrajchoco...</td>\n",
              "      <td>NaN</td>\n",
              "      <td>Twitter for Android</td>\n",
              "      <td>False</td>\n",
              "    </tr>\n",
              "    <tr>\n",
              "      <th>4</th>\n",
              "      <td>Ann-Maree O’Connor</td>\n",
              "      <td>Adelaide, South Australia</td>\n",
              "      <td>Retired university administrator. Melburnian b...</td>\n",
              "      <td>24-01-2013 14:53</td>\n",
              "      <td>83.0</td>\n",
              "      <td>497</td>\n",
              "      <td>10737</td>\n",
              "      <td>FALSE</td>\n",
              "      <td>18-08-2020 12:45</td>\n",
              "      <td>@michellegrattan @ConversationEDU This is what...</td>\n",
              "      <td>NaN</td>\n",
              "      <td>Twitter Web App</td>\n",
              "      <td>False</td>\n",
              "    </tr>\n",
              "  </tbody>\n",
              "</table>\n",
              "</div>"
            ],
            "text/plain": [
              "                 user_name  ... is_retweet\n",
              "0                 MyNewsNE  ...      False\n",
              "1            Shubham Gupta  ...      False\n",
              "2  Journal of Infectiology  ...      False\n",
              "3                     Zane  ...      False\n",
              "4       Ann-Maree O’Connor  ...      False\n",
              "\n",
              "[5 rows x 13 columns]"
            ]
          },
          "metadata": {
            "tags": []
          },
          "execution_count": 4
        }
      ]
    },
    {
      "cell_type": "code",
      "metadata": {
        "id": "oDkcxKJKIlo5"
      },
      "source": [
        "# extract tweets\n",
        "user_verified = dataFrame_vaccine_trend.iloc[:, 7].to_numpy()\n",
        "tweets_vaccine = dataFrame_vaccine_trend.iloc[:, 9].to_numpy()"
      ],
      "execution_count": 5,
      "outputs": []
    },
    {
      "cell_type": "code",
      "metadata": {
        "id": "3wbptCZOIlhV"
      },
      "source": [
        "# Process tweets\n",
        "processed_tweets_vaccine = []\n",
        "for tweet in tweets_vaccine:\n",
        "  try:\n",
        "    processed_tweets_vaccine.append(preProcessTweet(tweet))\n",
        "  except:\n",
        "    processed_tweets_vaccine.append(tweet)"
      ],
      "execution_count": 6,
      "outputs": []
    },
    {
      "cell_type": "code",
      "metadata": {
        "colab": {
          "base_uri": "https://localhost:8080/"
        },
        "id": "dJLgq12TIley",
        "outputId": "2ffabeeb-034a-4aba-b66d-45afdebc9ce5"
      },
      "source": [
        "## VADER Analysis (Install only if required)\n",
        "#!pip install twython\n",
        "#nltk.download('vader_lexicon')\n",
        "from nltk.sentiment.vader import SentimentIntensityAnalyzer"
      ],
      "execution_count": 7,
      "outputs": [
        {
          "output_type": "stream",
          "text": [
            "Collecting twython\n",
            "  Downloading https://files.pythonhosted.org/packages/24/80/579b96dfaa9b536efde883d4f0df7ea2598a6f3117a6dd572787f4a2bcfb/twython-3.8.2-py3-none-any.whl\n",
            "Requirement already satisfied: requests-oauthlib>=0.4.0 in /usr/local/lib/python3.7/dist-packages (from twython) (1.3.0)\n",
            "Requirement already satisfied: requests>=2.1.0 in /usr/local/lib/python3.7/dist-packages (from twython) (2.23.0)\n",
            "Requirement already satisfied: oauthlib>=3.0.0 in /usr/local/lib/python3.7/dist-packages (from requests-oauthlib>=0.4.0->twython) (3.1.0)\n",
            "Requirement already satisfied: urllib3!=1.25.0,!=1.25.1,<1.26,>=1.21.1 in /usr/local/lib/python3.7/dist-packages (from requests>=2.1.0->twython) (1.24.3)\n",
            "Requirement already satisfied: idna<3,>=2.5 in /usr/local/lib/python3.7/dist-packages (from requests>=2.1.0->twython) (2.10)\n",
            "Requirement already satisfied: certifi>=2017.4.17 in /usr/local/lib/python3.7/dist-packages (from requests>=2.1.0->twython) (2020.12.5)\n",
            "Requirement already satisfied: chardet<4,>=3.0.2 in /usr/local/lib/python3.7/dist-packages (from requests>=2.1.0->twython) (3.0.4)\n",
            "Installing collected packages: twython\n",
            "Successfully installed twython-3.8.2\n",
            "[nltk_data] Downloading package vader_lexicon to /root/nltk_data...\n"
          ],
          "name": "stdout"
        }
      ]
    },
    {
      "cell_type": "code",
      "metadata": {
        "id": "4OfLqEh2IlcX"
      },
      "source": [
        "# Vader Analyzer oObject\n",
        "vaderSentimentAnalyzer = SentimentIntensityAnalyzer()\n",
        "\n",
        "tweet_sentiment_vader = []\n",
        "neg_sentiment = 0\n",
        "pos_sentiment = 0\n",
        "neu_sentiment = 0\n",
        "\n",
        "for tweet in processed_tweets_vaccine:\n",
        "  try:\n",
        "    score = vaderSentimentAnalyzer.polarity_scores(tweet)\n",
        "    sentiment = score['compound']\n",
        "    \n",
        "    if (sentiment < 0):\n",
        "      neg_sentiment += 1\n",
        "      tweet_sentiment_vader.append(\"negative\")\n",
        "    elif (sentiment > 0):\n",
        "      pos_sentiment += 1\n",
        "      tweet_sentiment_vader.append(\"positive\")\n",
        "    elif (sentiment == 0):\n",
        "      neu_sentiment += 1\n",
        "      tweet_sentiment_vader.append(\"neutral\")\n",
        "  except:\n",
        "    tweet_sentiment_vader.append(\"positive\")"
      ],
      "execution_count": 8,
      "outputs": []
    },
    {
      "cell_type": "code",
      "metadata": {
        "colab": {
          "base_uri": "https://localhost:8080/"
        },
        "id": "Pscst4_qvuup",
        "outputId": "b807aacb-8a25-49a6-eefa-21e5d5463f9f"
      },
      "source": [
        "# Exttract tweets from verified users only.\n",
        "tweet_sentiment_vader = np.array(tweet_sentiment_vader)\n",
        "TRUE_indices = np.where(user_verified == \"TRUE\")[0]\n",
        "true_indices = np.where(user_verified == True)[0]\n",
        "indices = np.concatenate((TRUE_indices, true_indices))\n",
        "\n",
        "verified_user_tweet_sentiment_dict = collections.Counter(tweet_sentiment_vader[indices])\n",
        "print(verified_user_tweet_sentiment_dict)"
      ],
      "execution_count": 9,
      "outputs": [
        {
          "output_type": "stream",
          "text": [
            "Counter({'positive': 8858, 'neutral': 8022, 'negative': 2910})\n"
          ],
          "name": "stdout"
        }
      ]
    },
    {
      "cell_type": "code",
      "metadata": {
        "colab": {
          "base_uri": "https://localhost:8080/",
          "height": 350
        },
        "id": "GbX9frpPy5Jz",
        "outputId": "fde015ad-dc79-44e6-8a16-f11fdbcfa5bf"
      },
      "source": [
        "fig = plt.figure(figsize = (10, 5))\n",
        "\n",
        "# creating the bar plot\n",
        "plt.bar(list(verified_user_tweet_sentiment_dict.keys()), list(verified_user_tweet_sentiment_dict.values()), color ='grey', width = 0.5)\n",
        " \n",
        "plt.xlabel(\"Sentiment Catagory\")\n",
        "plt.ylabel(\"Number of tweets\")\n",
        "plt.title(\"Overall sentiment of tweets by verified users in COVID Vaccine Dataset\")\n",
        "plt.show()"
      ],
      "execution_count": 11,
      "outputs": [
        {
          "output_type": "display_data",
          "data": {
            "image/png": "[encoded data removed]",
            "text/plain": [
              "<Figure size 720x360 with 1 Axes>"
            ]
          },
          "metadata": {
            "tags": [],
            "needs_background": "light"
          }
        }
      ]
    }
  ]
}